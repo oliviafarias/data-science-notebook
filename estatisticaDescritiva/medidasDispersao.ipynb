{
 "cells": [
  {
   "cell_type": "markdown",
   "id": "d1ec3001-d99c-460b-9d8d-228424989627",
   "metadata": {},
   "source": [
    "Medidas de Dispersão:\n",
    "    São medidas que vão ajudar a calcular o quão variados estão os nossos dados. \n",
    "    As medidas de dispersão mais comuns são a Variância, desvio padrão e coeficiente de variação.\n"
   ]
  },
  {
   "cell_type": "markdown",
   "id": "84041665-e67f-4324-8c3d-161903fe7857",
   "metadata": {},
   "source": [
    "Vamos mais uma vez utilizar os dados do preço do BigMac de Julho de 2022:"
   ]
  },
  {
   "cell_type": "code",
   "execution_count": 1,
   "id": "b3f51171-50ea-4a5a-8d82-9310ea67c7ad",
   "metadata": {},
   "outputs": [],
   "source": [
    "import pandas"
   ]
  },
  {
   "cell_type": "code",
   "execution_count": 2,
   "id": "f1833acb-7276-4bd6-8d70-1d00a2904c80",
   "metadata": {},
   "outputs": [],
   "source": [
    "df = pandas.read_csv('BigmacPriceJuly2022.csv')"
   ]
  },
  {
   "cell_type": "code",
   "execution_count": 3,
   "id": "470c43d8-b1b7-45e6-8bfe-d44ad787735d",
   "metadata": {},
   "outputs": [
    {
     "data": {
      "text/html": [
       "<div>\n",
       "<style scoped>\n",
       "    .dataframe tbody tr th:only-of-type {\n",
       "        vertical-align: middle;\n",
       "    }\n",
       "\n",
       "    .dataframe tbody tr th {\n",
       "        vertical-align: top;\n",
       "    }\n",
       "\n",
       "    .dataframe thead th {\n",
       "        text-align: right;\n",
       "    }\n",
       "</style>\n",
       "<table border=\"1\" class=\"dataframe\">\n",
       "  <thead>\n",
       "    <tr style=\"text-align: right;\">\n",
       "      <th></th>\n",
       "      <th>date</th>\n",
       "      <th>currency_code</th>\n",
       "      <th>name</th>\n",
       "      <th>local_price</th>\n",
       "      <th>dollar_ex</th>\n",
       "      <th>dollar_price</th>\n",
       "    </tr>\n",
       "  </thead>\n",
       "  <tbody>\n",
       "    <tr>\n",
       "      <th>0</th>\n",
       "      <td>2022-07-01</td>\n",
       "      <td>ARS</td>\n",
       "      <td>Argentina</td>\n",
       "      <td>590.00</td>\n",
       "      <td>129</td>\n",
       "      <td>4.57</td>\n",
       "    </tr>\n",
       "    <tr>\n",
       "      <th>1</th>\n",
       "      <td>2022-07-01</td>\n",
       "      <td>AUD</td>\n",
       "      <td>Australia</td>\n",
       "      <td>6.70</td>\n",
       "      <td>1</td>\n",
       "      <td>6.70</td>\n",
       "    </tr>\n",
       "    <tr>\n",
       "      <th>2</th>\n",
       "      <td>2022-07-01</td>\n",
       "      <td>EUR</td>\n",
       "      <td>Austria</td>\n",
       "      <td>4.35</td>\n",
       "      <td>1</td>\n",
       "      <td>4.35</td>\n",
       "    </tr>\n",
       "    <tr>\n",
       "      <th>3</th>\n",
       "      <td>2022-07-01</td>\n",
       "      <td>AZN</td>\n",
       "      <td>Azerbaijan</td>\n",
       "      <td>4.70</td>\n",
       "      <td>1</td>\n",
       "      <td>4.70</td>\n",
       "    </tr>\n",
       "    <tr>\n",
       "      <th>4</th>\n",
       "      <td>2022-07-01</td>\n",
       "      <td>BHD</td>\n",
       "      <td>Bahrain</td>\n",
       "      <td>1.60</td>\n",
       "      <td>1</td>\n",
       "      <td>1.60</td>\n",
       "    </tr>\n",
       "  </tbody>\n",
       "</table>\n",
       "</div>"
      ],
      "text/plain": [
       "         date currency_code        name  local_price  dollar_ex  dollar_price\n",
       "0  2022-07-01           ARS   Argentina       590.00        129          4.57\n",
       "1  2022-07-01           AUD   Australia         6.70          1          6.70\n",
       "2  2022-07-01           EUR     Austria         4.35          1          4.35\n",
       "3  2022-07-01           AZN  Azerbaijan         4.70          1          4.70\n",
       "4  2022-07-01           BHD     Bahrain         1.60          1          1.60"
      ]
     },
     "execution_count": 3,
     "metadata": {},
     "output_type": "execute_result"
    }
   ],
   "source": [
    "df.head()\n"
   ]
  },
  {
   "cell_type": "markdown",
   "id": "20f7fdd3-6614-4f14-91e4-ed3b7e2e9843",
   "metadata": {},
   "source": [
    "Descrição Das Colunas:\n",
    "- Date: Data do registro;\n",
    "- currency_code: Código ISO 4217 internacional da moeda do país;\n",
    "- local_price: Preço do Big Mac na moeda local\n",
    "- dolla_ex: Tava de conversão do dólar americano para a moeda local;\n",
    "- dollar_price: Preço do Big Mac em dólares americados;"
   ]
  },
  {
   "cell_type": "code",
   "execution_count": null,
   "id": "2a01fb90-a614-4ac4-96fa-985d86c47fe0",
   "metadata": {},
   "outputs": [],
   "source": []
  },
  {
   "cell_type": "markdown",
   "id": "be1197c0-85b5-4ca3-9e30-e4b15f609ebf",
   "metadata": {},
   "source": [
    "VARIÂNCIA:\n",
    "    É uma medida de dispersão que nos ajuda a entender o quão longe da média os dados estão.\n",
    "    Na prática, a variância é a média do quadrado das distâncias entre cada observação e a média."
   ]
  },
  {
   "cell_type": "markdown",
   "id": "eb991739-ea53-4139-afba-09d2a3d3d588",
   "metadata": {},
   "source": [
    "Porque precisamos elevar ao quadrado?\n",
    "    Queremos medir a distância entre cada observação e a média, mas pode ser que alguma observação seja menor do que a média. Nesse caso, somente fazer a diferença entre a observação e a média daria um valor negativo, e acabaria se anulando com as outras distâncias."
   ]
  },
  {
   "cell_type": "code",
   "execution_count": null,
   "id": "7cbd819d-1acd-4801-b20e-43feb56cc44c",
   "metadata": {},
   "outputs": [],
   "source": []
  },
  {
   "cell_type": "code",
   "execution_count": 5,
   "id": "a2d209a0-7c11-46fa-803e-07dab195ea8f",
   "metadata": {},
   "outputs": [],
   "source": [
    "lista_exemplo_variancia = [1, 2, 3, 4, 5]"
   ]
  },
  {
   "cell_type": "code",
   "execution_count": 7,
   "id": "9d46b860-dbff-497b-b61b-183ec7a8242c",
   "metadata": {},
   "outputs": [],
   "source": [
    "def media(lista):\n",
    "    return sum(lista)/len(lista)"
   ]
  },
  {
   "cell_type": "code",
   "execution_count": 8,
   "id": "be7adafe-ed6f-430e-bd8c-3533b36cacc7",
   "metadata": {},
   "outputs": [
    {
     "data": {
      "text/plain": [
       "3.0"
      ]
     },
     "execution_count": 8,
     "metadata": {},
     "output_type": "execute_result"
    }
   ],
   "source": [
    "media(lista_exemplo_variancia)"
   ]
  },
  {
   "cell_type": "code",
   "execution_count": 9,
   "id": "98ea70cc-c362-43f9-9d79-8b31eb19b2a2",
   "metadata": {},
   "outputs": [
    {
     "data": {
      "text/plain": [
       "0"
      ]
     },
     "execution_count": 9,
     "metadata": {},
     "output_type": "execute_result"
    }
   ],
   "source": [
    "(1-3) + (2-3) + (3-3) + (4-3) + (5-3)"
   ]
  },
  {
   "cell_type": "markdown",
   "id": "34ce6aa9-3f0b-42c0-988b-8b2c40ca47f5",
   "metadata": {},
   "source": [
    "Nesse exemplo, todas as distâncias se anulariam e diríamos que os dados não tem variação alguma, o que não é verdade."
   ]
  },
  {
   "cell_type": "markdown",
   "id": "55d24e01-49ef-4f84-83c9-c98a37c52625",
   "metadata": {},
   "source": [
    "Quando elevamos um número ao quadrado, o resultado é sempre positivo e por isso elevamos as diferenças ao quadrado no caso da variância."
   ]
  },
  {
   "cell_type": "code",
   "execution_count": 10,
   "id": "c4a933d2-c0cd-40ad-8cf3-a5a79458d634",
   "metadata": {},
   "outputs": [
    {
     "data": {
      "text/plain": [
       "10"
      ]
     },
     "execution_count": 10,
     "metadata": {},
     "output_type": "execute_result"
    }
   ],
   "source": [
    "(1-3)**2 + (2-3)**2 + (3-3)**2 + (4-3)**2 + (5-3)**2"
   ]
  },
  {
   "cell_type": "code",
   "execution_count": null,
   "id": "826cd551-9f9b-4bb4-8650-aaab50702bd1",
   "metadata": {},
   "outputs": [],
   "source": []
  },
  {
   "cell_type": "markdown",
   "id": "d54604e9-a450-417c-a361-f16894069358",
   "metadata": {},
   "source": [
    "Implementação da fórmula da variância amostral:"
   ]
  },
  {
   "cell_type": "code",
   "execution_count": 13,
   "id": "397cec9d-766b-49a5-b7b4-994def05838f",
   "metadata": {},
   "outputs": [],
   "source": [
    "def variancia_amostral(lista):\n",
    "    media_lista = media(lista)\n",
    "    tamanho_lista = len(lista)\n",
    "\n",
    "    lista_distancias_quadradas = []\n",
    "    for observacao in lista:\n",
    "        distancia_quadrada = (observacao - media_lista) ** 2\n",
    "        lista_distancias_quadradas.append(distancia_quadrada)\n",
    "\n",
    "    variancia = sum(lista_distancias_quadradas)/tamanho_lista\n",
    "    return variancia"
   ]
  },
  {
   "cell_type": "code",
   "execution_count": 14,
   "id": "d2994fcd-f4bb-4e4b-ac6f-5aec49f47434",
   "metadata": {},
   "outputs": [
    {
     "data": {
      "text/plain": [
       "2.0"
      ]
     },
     "execution_count": 14,
     "metadata": {},
     "output_type": "execute_result"
    }
   ],
   "source": [
    "variancia_amostral(lista_exemplo_variancia)"
   ]
  },
  {
   "cell_type": "code",
   "execution_count": null,
   "id": "7c5bf0d4-2f55-4751-a3b2-da2c43cb2f7c",
   "metadata": {},
   "outputs": [],
   "source": []
  },
  {
   "cell_type": "markdown",
   "id": "91500149-9ec3-42eb-9978-bb78eb1885e3",
   "metadata": {},
   "source": [
    "Podemos usar um pacote pronto para calcular a variância, não é necessário implementar toda vez:"
   ]
  },
  {
   "cell_type": "code",
   "execution_count": 15,
   "id": "078dbad5-8b16-44e5-bdb0-02c28c4b4d2c",
   "metadata": {},
   "outputs": [],
   "source": [
    "import numpy as np"
   ]
  },
  {
   "cell_type": "code",
   "execution_count": 16,
   "id": "133ec09f-f67f-46f2-8de8-8068330cfd61",
   "metadata": {},
   "outputs": [
    {
     "data": {
      "text/plain": [
       "2.0"
      ]
     },
     "execution_count": 16,
     "metadata": {},
     "output_type": "execute_result"
    }
   ],
   "source": [
    "np.var(lista_exemplo_variancia)"
   ]
  },
  {
   "cell_type": "code",
   "execution_count": null,
   "id": "9191bd37-bd1d-49eb-9dc3-99905687389d",
   "metadata": {},
   "outputs": [],
   "source": []
  },
  {
   "cell_type": "markdown",
   "id": "e620485a-f6ec-461c-af66-bc9b26938ddc",
   "metadata": {},
   "source": [
    "Também podemos calcular a variância com Pandas:"
   ]
  },
  {
   "cell_type": "code",
   "execution_count": 20,
   "id": "f3c845cf-d5b9-4cf7-84fc-4716810d42a3",
   "metadata": {},
   "outputs": [
    {
     "data": {
      "text/plain": [
       "1.8311856107660458"
      ]
     },
     "execution_count": 20,
     "metadata": {},
     "output_type": "execute_result"
    }
   ],
   "source": [
    "df['dollar_price'].var()"
   ]
  },
  {
   "cell_type": "code",
   "execution_count": null,
   "id": "2e47633f-ca8d-4c8b-a5a1-f6133fb46eb7",
   "metadata": {},
   "outputs": [],
   "source": []
  },
  {
   "cell_type": "markdown",
   "id": "c5db0ff2-3b7c-4cd2-84b1-ebd88f114a72",
   "metadata": {},
   "source": [
    "Assim como a média, a variância é facilmente influênciada por valores extremos."
   ]
  },
  {
   "cell_type": "markdown",
   "id": "28245d2d-8b59-41ba-b50b-b98edebb734d",
   "metadata": {},
   "source": [
    "Lista equilibrada:"
   ]
  },
  {
   "cell_type": "code",
   "execution_count": 21,
   "id": "98b4fb01-febf-4d50-9483-3c2be9d4941c",
   "metadata": {},
   "outputs": [],
   "source": [
    "lista_alturas_1 = [1.67, 1.72, 1.70, 1.69, 1.74, 1.71]"
   ]
  },
  {
   "cell_type": "code",
   "execution_count": 22,
   "id": "7f6ea04e-141e-40ef-8a27-9528729de861",
   "metadata": {},
   "outputs": [
    {
     "data": {
      "text/plain": [
       "1.705"
      ]
     },
     "execution_count": 22,
     "metadata": {},
     "output_type": "execute_result"
    }
   ],
   "source": [
    "media(lista_alturas_1)"
   ]
  },
  {
   "cell_type": "code",
   "execution_count": 23,
   "id": "97b4392d-b148-4260-9e91-64c653509464",
   "metadata": {},
   "outputs": [
    {
     "data": {
      "text/plain": [
       "0.0004916666666666675"
      ]
     },
     "execution_count": 23,
     "metadata": {},
     "output_type": "execute_result"
    }
   ],
   "source": [
    "np.var(lista_alturas_1)"
   ]
  },
  {
   "cell_type": "code",
   "execution_count": null,
   "id": "debb4be7-5488-4e58-9540-9b21a8974d9e",
   "metadata": {},
   "outputs": [],
   "source": []
  },
  {
   "cell_type": "markdown",
   "id": "3115b992-9ae7-4393-ba7e-ff09ee293c99",
   "metadata": {},
   "source": [
    "_______________________________________________________________________________________________________________________"
   ]
  },
  {
   "cell_type": "code",
   "execution_count": null,
   "id": "f54d202b-1fad-412b-adc1-e5a61b71b655",
   "metadata": {},
   "outputs": [],
   "source": []
  },
  {
   "cell_type": "markdown",
   "id": "66550dbf-0ec6-4d90-86bd-4d1db6bc91d9",
   "metadata": {},
   "source": [
    "Desvio Padrão:\n",
    "    No cálculo da variância, elevamos as diferenças ao quadrado para que as distâncias sejam positivas. Entretanto, ao fazer isso, a variância acaba ficando numa escala diferente dos dados, porque está em uma escala quadrática. Por isso, utilizamos o desvio padrão, que nada mais é que a raiz quadrada da variância.\n",
    "    "
   ]
  },
  {
   "cell_type": "code",
   "execution_count": 25,
   "id": "f249b407-e5b2-4d43-9582-42541f98829c",
   "metadata": {},
   "outputs": [
    {
     "data": {
      "text/plain": [
       "1.3532130692415167"
      ]
     },
     "execution_count": 25,
     "metadata": {},
     "output_type": "execute_result"
    }
   ],
   "source": [
    "df['dollar_price'].std()"
   ]
  },
  {
   "cell_type": "markdown",
   "id": "55c49bbb-a786-4cf2-a799-b6dd5cd96d82",
   "metadata": {},
   "source": [
    "Este é o desvio padrão do preço do BigMac em dólares no mundo."
   ]
  },
  {
   "cell_type": "code",
   "execution_count": null,
   "id": "99ff798e-05b4-4625-a134-7f8bc8ca72f8",
   "metadata": {},
   "outputs": [],
   "source": []
  },
  {
   "cell_type": "markdown",
   "id": "bcfe70be-86ee-4c55-a596-fbb0bc57b770",
   "metadata": {},
   "source": [
    "Podemos usar um pacote pronto para calcular o desvio padrão:"
   ]
  },
  {
   "cell_type": "code",
   "execution_count": 27,
   "id": "7308a721-6265-46af-a73c-fb56fa6eb6bb",
   "metadata": {},
   "outputs": [
    {
     "data": {
      "text/plain": [
       "1.4142135623730951"
      ]
     },
     "execution_count": 27,
     "metadata": {},
     "output_type": "execute_result"
    }
   ],
   "source": [
    "np.std(lista_exemplo_variancia)"
   ]
  },
  {
   "cell_type": "code",
   "execution_count": null,
   "id": "19805697-15f3-4d4f-8ff8-59dd3237db2e",
   "metadata": {},
   "outputs": [],
   "source": []
  },
  {
   "cell_type": "markdown",
   "id": "267611fb-d61f-45a5-8137-b2c54f23abce",
   "metadata": {},
   "source": [
    "Como o desvio padrão é a raiz quadrada da variância, ele também vai, assim como a média, ser facilmente influenciado por valores extremos.\n"
   ]
  },
  {
   "cell_type": "code",
   "execution_count": null,
   "id": "6737365b-a41f-4cd0-9b39-c173ab205440",
   "metadata": {},
   "outputs": [],
   "source": []
  },
  {
   "cell_type": "markdown",
   "id": "5353c2d6-3ab9-4ab3-b459-8d94d00e0ca2",
   "metadata": {},
   "source": [
    "_____________________________________________________________________________________________________________________________"
   ]
  },
  {
   "cell_type": "code",
   "execution_count": null,
   "id": "a9693b18-da87-42fb-9943-51c3fefdc0d3",
   "metadata": {},
   "outputs": [],
   "source": []
  },
  {
   "cell_type": "markdown",
   "id": "3ecb2d1d-6ff1-47dd-a84e-f28d21150c23",
   "metadata": {},
   "source": [
    "Coeficiente de Variação:\n",
    "    Com o desvio padrão, temos uma medida de dispersão na mesma escala dos nossos dados. Entretanto, como saber se os dados são muito variados ou pouco? Como saber se o nosso desvio padrão é pequeno ou grande? Para isso, temos o Coeficiente de Variação.\n",
    "    Usado para descrever o nível de variabilidade dentro de uma população, independentemente dos valores absolutos das observações.\n",
    "    CV = S\\M x 100    (S: Desvio-padrão; M: Média da amostra) Habitualmente, o CV é apresentado sob a forma de percentagem."
   ]
  },
  {
   "cell_type": "markdown",
   "id": "1658f3f2-939a-49bc-a112-e7491f74dbcb",
   "metadata": {},
   "source": [
    "Cálculo do Coeficiente de Variação do preço do BigMac em dólares:"
   ]
  },
  {
   "cell_type": "code",
   "execution_count": 33,
   "id": "0f2b7e40-43f6-4a4c-be02-981e3fc38fb9",
   "metadata": {},
   "outputs": [
    {
     "data": {
      "text/plain": [
       "33.800148027441985"
      ]
     },
     "execution_count": 33,
     "metadata": {},
     "output_type": "execute_result"
    }
   ],
   "source": [
    "coeficiente_variacao_bigmac = 100 * df['dollar_price'].std()/df['dollar_price'].mean()\n",
    "coeficiente_variacao_bigmac"
   ]
  },
  {
   "cell_type": "markdown",
   "id": "d5f5bc8b-cd2b-47e3-b16a-53ec2e7153ba",
   "metadata": {},
   "source": [
    "Os dados são bastante dispersos! > 30%"
   ]
  },
  {
   "cell_type": "code",
   "execution_count": null,
   "id": "36edeb62-6816-4ca0-9d62-e575ad953a7f",
   "metadata": {},
   "outputs": [],
   "source": []
  }
 ],
 "metadata": {
  "kernelspec": {
   "display_name": "Python 3 (ipykernel)",
   "language": "python",
   "name": "python3"
  },
  "language_info": {
   "codemirror_mode": {
    "name": "ipython",
    "version": 3
   },
   "file_extension": ".py",
   "mimetype": "text/x-python",
   "name": "python",
   "nbconvert_exporter": "python",
   "pygments_lexer": "ipython3",
   "version": "3.12.0"
  }
 },
 "nbformat": 4,
 "nbformat_minor": 5
}
