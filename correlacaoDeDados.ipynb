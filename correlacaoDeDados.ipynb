{
 "cells": [
  {
   "cell_type": "markdown",
   "id": "f9b90653-2045-47fc-9ce6-361367fdf779",
   "metadata": {},
   "source": [
    "Correlação:\n",
    "    A correlação é uma medida que tenta identificar o grau de relacionamento entre duas variáveis. Ela é muito útil para entender se uma variável exerce influência em outra. Por exemplo, a altura é correlacionada com a idade de uma criança?\n",
    "    - Sem correlação;\n",
    "    - Correlação positiva forte;\n",
    "    - Correlação positiva fraca;\n",
    "    - Correlação negativa forte;\n",
    "    - Correlação negativa fraca;"
   ]
  },
  {
   "cell_type": "markdown",
   "id": "5a540158-8383-4d0a-846b-bec413301de6",
   "metadata": {},
   "source": [
    "A correlação varia entre -1 e 1: \n",
    "    Se assumir o valor -1, as variáveis são totalmente correlacionadas uma com a outra, sendo que, enquanto uma cresce, a outra diminui.\n",
    "    Quando a correlação assume valor 1, vice e versa.\n",
    "    Quando for 0, indica que as variáveis não são linearmente relacionadas.\n"
   ]
  },
  {
   "cell_type": "markdown",
   "id": "22d93491-295e-40dc-a715-6ef605e2f67f",
   "metadata": {},
   "source": [
    "Existem várias formas de se calcular a correlação entre duas variáveis. Podemos dividi-la em 2 tipos de correlação: as lineares e as não lineares."
   ]
  },
  {
   "cell_type": "markdown",
   "id": "54080b25-7c97-4083-86d0-932ad35817f7",
   "metadata": {},
   "source": [
    "Correlação de Pearson:\n",
    "O coeficiente de Correlação de Pearson é uma técnica para medir se duas variáveis estão relacionadas de maneira linear. Essa é a correlação mais conhecida e mais utilizada.    "
   ]
  },
  {
   "cell_type": "code",
   "execution_count": 15,
   "id": "e3348442-e415-4b5a-9cbd-5399e49b6707",
   "metadata": {},
   "outputs": [],
   "source": [
    "from scipy.stats import pearsonr\n",
    "import numpy as np"
   ]
  },
  {
   "cell_type": "markdown",
   "id": "627d4dd2-c560-4bea-83ef-ffcbcf88c699",
   "metadata": {},
   "source": [
    "Exemplo da Correlação de Pearson:"
   ]
  },
  {
   "cell_type": "code",
   "execution_count": 16,
   "id": "d7ebdaed-ad27-490e-9f4e-f9f785e27fde",
   "metadata": {
    "tags": []
   },
   "outputs": [
    {
     "data": {
      "text/plain": [
       "array([ 5,  8, 11, 14, 17])"
      ]
     },
     "execution_count": 16,
     "metadata": {},
     "output_type": "execute_result"
    }
   ],
   "source": [
    "a = np.array([1, 2, 3, 4, 5])\n",
    "b = a * 3 + 2\n",
    "b"
   ]
  },
  {
   "cell_type": "markdown",
   "id": "347b80ec-0ec4-4787-be2a-51d0c1442050",
   "metadata": {},
   "source": [
    "Perceba que b é uma combinação linear de a. Isso porque b = a * constante1 + constante2. Portante, b é completamente dependente de a, e a relação deles é linear. Vamos ver qual será o resultado da correlação de Pearson."
   ]
  },
  {
   "cell_type": "code",
   "execution_count": 17,
   "id": "9cc9d8b9-a0a2-4925-836c-b58293b05ed4",
   "metadata": {
    "tags": []
   },
   "outputs": [
    {
     "data": {
      "text/plain": [
       "PearsonRResult(statistic=1.0, pvalue=0.0)"
      ]
     },
     "execution_count": 17,
     "metadata": {},
     "output_type": "execute_result"
    }
   ],
   "source": [
    "pearsonr(a, b)"
   ]
  },
  {
   "cell_type": "code",
   "execution_count": null,
   "id": "f93aeb36-4438-4247-bfd2-7a92c6da9e25",
   "metadata": {},
   "outputs": [],
   "source": []
  },
  {
   "cell_type": "markdown",
   "id": "9e0a1a9a-dbd7-45b0-b679-7ab084c87044",
   "metadata": {},
   "source": [
    "Vamos mudar a e b um pouco:"
   ]
  },
  {
   "cell_type": "code",
   "execution_count": 18,
   "id": "af901695-2825-4248-a25c-9f205faedd93",
   "metadata": {
    "tags": []
   },
   "outputs": [
    {
     "data": {
      "text/plain": [
       "array([  3,  10,  29,  66, 127])"
      ]
     },
     "execution_count": 18,
     "metadata": {},
     "output_type": "execute_result"
    }
   ],
   "source": [
    "a = np.array([1, 2, 3, 4, 5])\n",
    "b = a ** 3 + 2\n",
    "b"
   ]
  },
  {
   "cell_type": "code",
   "execution_count": 19,
   "id": "6e7fb909-9aa7-4f26-9369-a5a715c9bbe5",
   "metadata": {
    "tags": []
   },
   "outputs": [
    {
     "data": {
      "text/plain": [
       "PearsonRResult(statistic=0.9431175138077006, pvalue=0.016145855288630363)"
      ]
     },
     "execution_count": 19,
     "metadata": {},
     "output_type": "execute_result"
    }
   ],
   "source": [
    "pearsonr(a, b)"
   ]
  },
  {
   "cell_type": "markdown",
   "id": "7e1b779c-d917-47d3-817e-ee6c9020e974",
   "metadata": {
    "tags": []
   },
   "source": [
    "Apesar de b ainda ser completamente dependente de a, b já não é uma combinação linear de a, então a correlação não foi 1.  "
   ]
  },
  {
   "cell_type": "markdown",
   "id": "55f0aa2b-5e8b-4cfb-aa00-44308c51f78c",
   "metadata": {},
   "source": []
  },
  {
   "cell_type": "markdown",
   "id": "4f9f193e-6f8d-46be-bfb9-f08e30f8f4a3",
   "metadata": {},
   "source": [
    "Vamos continuar usando os dados do preço do BiMac em Julho de 2022:"
   ]
  },
  {
   "cell_type": "code",
   "execution_count": 20,
   "id": "57627c50-07a1-4328-bb36-ba3c4dc256cc",
   "metadata": {
    "tags": []
   },
   "outputs": [],
   "source": [
    "import pandas"
   ]
  },
  {
   "cell_type": "code",
   "execution_count": 21,
   "id": "f208f16d-ab8c-43ae-b0e0-3cdca49f1f5a",
   "metadata": {
    "tags": []
   },
   "outputs": [
    {
     "data": {
      "text/html": [
       "<div>\n",
       "<style scoped>\n",
       "    .dataframe tbody tr th:only-of-type {\n",
       "        vertical-align: middle;\n",
       "    }\n",
       "\n",
       "    .dataframe tbody tr th {\n",
       "        vertical-align: top;\n",
       "    }\n",
       "\n",
       "    .dataframe thead th {\n",
       "        text-align: right;\n",
       "    }\n",
       "</style>\n",
       "<table border=\"1\" class=\"dataframe\">\n",
       "  <thead>\n",
       "    <tr style=\"text-align: right;\">\n",
       "      <th></th>\n",
       "      <th>date</th>\n",
       "      <th>currency_code</th>\n",
       "      <th>name</th>\n",
       "      <th>local_price</th>\n",
       "      <th>dollar_ex</th>\n",
       "      <th>dollar_price</th>\n",
       "    </tr>\n",
       "  </thead>\n",
       "  <tbody>\n",
       "    <tr>\n",
       "      <th>0</th>\n",
       "      <td>2022-07-01</td>\n",
       "      <td>ARS</td>\n",
       "      <td>Argentina</td>\n",
       "      <td>590.00</td>\n",
       "      <td>129</td>\n",
       "      <td>4.57</td>\n",
       "    </tr>\n",
       "    <tr>\n",
       "      <th>1</th>\n",
       "      <td>2022-07-01</td>\n",
       "      <td>AUD</td>\n",
       "      <td>Australia</td>\n",
       "      <td>6.70</td>\n",
       "      <td>1</td>\n",
       "      <td>6.70</td>\n",
       "    </tr>\n",
       "    <tr>\n",
       "      <th>2</th>\n",
       "      <td>2022-07-01</td>\n",
       "      <td>EUR</td>\n",
       "      <td>Austria</td>\n",
       "      <td>4.35</td>\n",
       "      <td>1</td>\n",
       "      <td>4.35</td>\n",
       "    </tr>\n",
       "    <tr>\n",
       "      <th>3</th>\n",
       "      <td>2022-07-01</td>\n",
       "      <td>AZN</td>\n",
       "      <td>Azerbaijan</td>\n",
       "      <td>4.70</td>\n",
       "      <td>1</td>\n",
       "      <td>4.70</td>\n",
       "    </tr>\n",
       "    <tr>\n",
       "      <th>4</th>\n",
       "      <td>2022-07-01</td>\n",
       "      <td>BHD</td>\n",
       "      <td>Bahrain</td>\n",
       "      <td>1.60</td>\n",
       "      <td>1</td>\n",
       "      <td>1.60</td>\n",
       "    </tr>\n",
       "  </tbody>\n",
       "</table>\n",
       "</div>"
      ],
      "text/plain": [
       "         date currency_code        name  local_price  dollar_ex  dollar_price\n",
       "0  2022-07-01           ARS   Argentina       590.00        129          4.57\n",
       "1  2022-07-01           AUD   Australia         6.70          1          6.70\n",
       "2  2022-07-01           EUR     Austria         4.35          1          4.35\n",
       "3  2022-07-01           AZN  Azerbaijan         4.70          1          4.70\n",
       "4  2022-07-01           BHD     Bahrain         1.60          1          1.60"
      ]
     },
     "execution_count": 21,
     "metadata": {},
     "output_type": "execute_result"
    }
   ],
   "source": [
    "df = pandas.read_csv('BigMacPriceJuly2022.csv')\n",
    "df.head()"
   ]
  },
  {
   "cell_type": "code",
   "execution_count": 23,
   "id": "77fa9333-a35e-4220-8f74-e6c95c192992",
   "metadata": {
    "tags": []
   },
   "outputs": [
    {
     "data": {
      "text/html": [
       "<div>\n",
       "<style scoped>\n",
       "    .dataframe tbody tr th:only-of-type {\n",
       "        vertical-align: middle;\n",
       "    }\n",
       "\n",
       "    .dataframe tbody tr th {\n",
       "        vertical-align: top;\n",
       "    }\n",
       "\n",
       "    .dataframe thead th {\n",
       "        text-align: right;\n",
       "    }\n",
       "</style>\n",
       "<table border=\"1\" class=\"dataframe\">\n",
       "  <thead>\n",
       "    <tr style=\"text-align: right;\">\n",
       "      <th></th>\n",
       "      <th>local_price</th>\n",
       "      <th>dollar_ex</th>\n",
       "      <th>dollar_price</th>\n",
       "    </tr>\n",
       "  </thead>\n",
       "  <tbody>\n",
       "    <tr>\n",
       "      <th>local_price</th>\n",
       "      <td>1.000000</td>\n",
       "      <td>0.954986</td>\n",
       "      <td>-0.002980</td>\n",
       "    </tr>\n",
       "    <tr>\n",
       "      <th>dollar_ex</th>\n",
       "      <td>0.954986</td>\n",
       "      <td>1.000000</td>\n",
       "      <td>-0.063468</td>\n",
       "    </tr>\n",
       "    <tr>\n",
       "      <th>dollar_price</th>\n",
       "      <td>-0.002980</td>\n",
       "      <td>-0.063468</td>\n",
       "      <td>1.000000</td>\n",
       "    </tr>\n",
       "  </tbody>\n",
       "</table>\n",
       "</div>"
      ],
      "text/plain": [
       "              local_price  dollar_ex  dollar_price\n",
       "local_price      1.000000   0.954986     -0.002980\n",
       "dollar_ex        0.954986   1.000000     -0.063468\n",
       "dollar_price    -0.002980  -0.063468      1.000000"
      ]
     },
     "execution_count": 23,
     "metadata": {},
     "output_type": "execute_result"
    }
   ],
   "source": [
    "df.corr(numeric_only = True)"
   ]
  },
  {
   "cell_type": "code",
   "execution_count": null,
   "id": "de52c5d5-8d19-4bbb-904b-789773143e1d",
   "metadata": {},
   "outputs": [],
   "source": []
  },
  {
   "cell_type": "markdown",
   "id": "fb3c3c0d-d11d-4861-b143-14ecebeafa0f",
   "metadata": {},
   "source": [
    "Correlação de Spearman:\n",
    "    A correlação de Spearman, de maneira simplificada, analisa se, quando o valor de uma variável aumenta ou diminui, o valor da outra variável aumenta ou diminui.\n",
    "    Uma vez que a correlação de Spearman segue uma lógica e não tem pressupostos lineares como na correlação de Pearson, é possível utiliza-la para relações não lineares."
   ]
  },
  {
   "cell_type": "code",
   "execution_count": 24,
   "id": "2af90400-d71e-467f-9ecf-63b2fe0f9e10",
   "metadata": {
    "tags": []
   },
   "outputs": [],
   "source": [
    "from scipy.stats import spearmanr"
   ]
  },
  {
   "cell_type": "markdown",
   "id": "7cff5949-ba86-4958-8f76-b017c880f787",
   "metadata": {},
   "source": [
    "Vamos repetir os exemplos para ver como a Correlação de Spearman se comporta:"
   ]
  },
  {
   "cell_type": "code",
   "execution_count": 26,
   "id": "5ce381dd-b5e2-491c-82a1-40044537a718",
   "metadata": {
    "tags": []
   },
   "outputs": [
    {
     "data": {
      "text/plain": [
       "array([ 5,  8, 11, 14, 17])"
      ]
     },
     "execution_count": 26,
     "metadata": {},
     "output_type": "execute_result"
    }
   ],
   "source": [
    "a = np.array([1, 2, 3, 4, 5])\n",
    "b = a * 3 + 2\n",
    "b"
   ]
  },
  {
   "cell_type": "markdown",
   "id": "10bd1622-efce-4f82-a0aa-28f58d61d802",
   "metadata": {},
   "source": [
    "Aqui, b é uma combinação linear de a."
   ]
  },
  {
   "cell_type": "code",
   "execution_count": null,
   "id": "00e26488-20cf-432a-832f-accab3d2e5fd",
   "metadata": {},
   "outputs": [],
   "source": []
  },
  {
   "cell_type": "code",
   "execution_count": 27,
   "id": "30a01bb4-2566-469c-80c9-c80b5b84ccb9",
   "metadata": {
    "tags": []
   },
   "outputs": [
    {
     "data": {
      "text/plain": [
       "SignificanceResult(statistic=0.9999999999999999, pvalue=1.4042654220543672e-24)"
      ]
     },
     "execution_count": 27,
     "metadata": {},
     "output_type": "execute_result"
    }
   ],
   "source": [
    "spearmanr(a, b)"
   ]
  },
  {
   "cell_type": "code",
   "execution_count": null,
   "id": "538ef96c-207f-43e8-9ad2-edbd4ca3b0d3",
   "metadata": {},
   "outputs": [],
   "source": []
  },
  {
   "cell_type": "markdown",
   "id": "3002004b-96ad-4b0e-a0cc-2f4a1f82054b",
   "metadata": {},
   "source": [
    "Agora, com uma relação não linear entre a e b:"
   ]
  },
  {
   "cell_type": "code",
   "execution_count": 28,
   "id": "fc050197-9ab3-4bc8-882b-fca9f45bb21c",
   "metadata": {
    "tags": []
   },
   "outputs": [
    {
     "data": {
      "text/plain": [
       "array([  3,  10,  29,  66, 127])"
      ]
     },
     "execution_count": 28,
     "metadata": {},
     "output_type": "execute_result"
    }
   ],
   "source": [
    "a = np.array([1, 2, 3, 4, 5])\n",
    "b = a ** 3 + 2\n",
    "b"
   ]
  },
  {
   "cell_type": "code",
   "execution_count": 29,
   "id": "884e8d49-896f-4e16-be76-cd367b86fa5d",
   "metadata": {
    "tags": []
   },
   "outputs": [
    {
     "data": {
      "text/plain": [
       "SignificanceResult(statistic=0.9999999999999999, pvalue=1.4042654220543672e-24)"
      ]
     },
     "execution_count": 29,
     "metadata": {},
     "output_type": "execute_result"
    }
   ],
   "source": [
    "spearmanr(a, b)"
   ]
  },
  {
   "cell_type": "markdown",
   "id": "494ad499-d7ed-47ee-b672-a644f8a225c7",
   "metadata": {},
   "source": [
    "Mesmo que a relação entre a e b não seja linear, a correlação foi 1."
   ]
  },
  {
   "cell_type": "code",
   "execution_count": null,
   "id": "7815e4a1-d139-4580-adc4-cca773eeefb2",
   "metadata": {},
   "outputs": [],
   "source": []
  },
  {
   "cell_type": "code",
   "execution_count": 31,
   "id": "195dfad0-3971-474e-9f06-ab02bdd1faf5",
   "metadata": {
    "tags": []
   },
   "outputs": [
    {
     "data": {
      "text/html": [
       "<div>\n",
       "<style scoped>\n",
       "    .dataframe tbody tr th:only-of-type {\n",
       "        vertical-align: middle;\n",
       "    }\n",
       "\n",
       "    .dataframe tbody tr th {\n",
       "        vertical-align: top;\n",
       "    }\n",
       "\n",
       "    .dataframe thead th {\n",
       "        text-align: right;\n",
       "    }\n",
       "</style>\n",
       "<table border=\"1\" class=\"dataframe\">\n",
       "  <thead>\n",
       "    <tr style=\"text-align: right;\">\n",
       "      <th></th>\n",
       "      <th>local_price</th>\n",
       "      <th>dollar_ex</th>\n",
       "      <th>dollar_price</th>\n",
       "    </tr>\n",
       "  </thead>\n",
       "  <tbody>\n",
       "    <tr>\n",
       "      <th>local_price</th>\n",
       "      <td>1.000000</td>\n",
       "      <td>0.958868</td>\n",
       "      <td>-0.073513</td>\n",
       "    </tr>\n",
       "    <tr>\n",
       "      <th>dollar_ex</th>\n",
       "      <td>0.958868</td>\n",
       "      <td>1.000000</td>\n",
       "      <td>-0.313316</td>\n",
       "    </tr>\n",
       "    <tr>\n",
       "      <th>dollar_price</th>\n",
       "      <td>-0.073513</td>\n",
       "      <td>-0.313316</td>\n",
       "      <td>1.000000</td>\n",
       "    </tr>\n",
       "  </tbody>\n",
       "</table>\n",
       "</div>"
      ],
      "text/plain": [
       "              local_price  dollar_ex  dollar_price\n",
       "local_price      1.000000   0.958868     -0.073513\n",
       "dollar_ex        0.958868   1.000000     -0.313316\n",
       "dollar_price    -0.073513  -0.313316      1.000000"
      ]
     },
     "execution_count": 31,
     "metadata": {},
     "output_type": "execute_result"
    }
   ],
   "source": [
    "df.corr(numeric_only = True, method = 'spearman')"
   ]
  },
  {
   "cell_type": "markdown",
   "id": "107a5847-4aab-40ab-8c8a-98d0f7419230",
   "metadata": {},
   "source": [
    "Em geral, usamos a Relação de Spearman quando:\n",
    "* A relação entre as variáveis não pode ser não linear;\n",
    "* Uma das variáveis é um ranking;\n",
    "* Quando existem muitos valores extremos nos dados, causando uma variância muito grande;"
   ]
  },
  {
   "cell_type": "code",
   "execution_count": null,
   "id": "71279a92-c9d1-410f-bed3-1b712280b13e",
   "metadata": {},
   "outputs": [],
   "source": []
  }
 ],
 "metadata": {
  "kernelspec": {
   "display_name": "Python 3 (ipykernel)",
   "language": "python",
   "name": "python3"
  },
  "language_info": {
   "codemirror_mode": {
    "name": "ipython",
    "version": 3
   },
   "file_extension": ".py",
   "mimetype": "text/x-python",
   "name": "python",
   "nbconvert_exporter": "python",
   "pygments_lexer": "ipython3",
   "version": "3.11.5"
  }
 },
 "nbformat": 4,
 "nbformat_minor": 5
}
