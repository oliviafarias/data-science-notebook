{
 "cells": [
  {
   "cell_type": "markdown",
   "id": "705468d9-b225-46f2-b640-8abfe50231b1",
   "metadata": {},
   "source": [
    "Medidas de Tendência Central\n",
    "    * A tendência Central é uma medida de valores numa amostra que identifica os diferentes pontos centrais nos dados\n",
    "    * As medidas mais comuns de tendência central são a média, mediana e a moda.\n",
    "    * Vamos usar dados abertos do preço do Big Mac, desde 2000 a 2022, para diversos países. Os dados podem ser encontrados no Kaggle.\n"
   ]
  },
  {
   "cell_type": "code",
   "execution_count": 1,
   "id": "d1a3e006-fde2-432c-81cb-d95c739640b2",
   "metadata": {},
   "outputs": [],
   "source": [
    "import pandas"
   ]
  },
  {
   "cell_type": "code",
   "execution_count": 3,
   "id": "4fd614cd-46fe-476e-86a8-974a79006233",
   "metadata": {},
   "outputs": [],
   "source": [
    "df = pandas.read_csv('BigmacPrice.csv')"
   ]
  },
  {
   "cell_type": "code",
   "execution_count": 4,
   "id": "8a607c1f-f3b2-475c-a867-011f4982a49a",
   "metadata": {},
   "outputs": [
    {
     "data": {
      "text/html": [
       "<div>\n",
       "<style scoped>\n",
       "    .dataframe tbody tr th:only-of-type {\n",
       "        vertical-align: middle;\n",
       "    }\n",
       "\n",
       "    .dataframe tbody tr th {\n",
       "        vertical-align: top;\n",
       "    }\n",
       "\n",
       "    .dataframe thead th {\n",
       "        text-align: right;\n",
       "    }\n",
       "</style>\n",
       "<table border=\"1\" class=\"dataframe\">\n",
       "  <thead>\n",
       "    <tr style=\"text-align: right;\">\n",
       "      <th></th>\n",
       "      <th>date</th>\n",
       "      <th>currency_code</th>\n",
       "      <th>name</th>\n",
       "      <th>local_price</th>\n",
       "      <th>dollar_ex</th>\n",
       "      <th>dollar_price</th>\n",
       "    </tr>\n",
       "  </thead>\n",
       "  <tbody>\n",
       "    <tr>\n",
       "      <th>0</th>\n",
       "      <td>2000-04-01</td>\n",
       "      <td>ARS</td>\n",
       "      <td>Argentina</td>\n",
       "      <td>2.50</td>\n",
       "      <td>1</td>\n",
       "      <td>2.50</td>\n",
       "    </tr>\n",
       "    <tr>\n",
       "      <th>1</th>\n",
       "      <td>2000-04-01</td>\n",
       "      <td>AUD</td>\n",
       "      <td>Australia</td>\n",
       "      <td>2.59</td>\n",
       "      <td>1</td>\n",
       "      <td>2.59</td>\n",
       "    </tr>\n",
       "    <tr>\n",
       "      <th>2</th>\n",
       "      <td>2000-04-01</td>\n",
       "      <td>BRL</td>\n",
       "      <td>Brazil</td>\n",
       "      <td>2.95</td>\n",
       "      <td>1</td>\n",
       "      <td>2.95</td>\n",
       "    </tr>\n",
       "    <tr>\n",
       "      <th>3</th>\n",
       "      <td>2000-04-01</td>\n",
       "      <td>GBP</td>\n",
       "      <td>Britain</td>\n",
       "      <td>1.90</td>\n",
       "      <td>1</td>\n",
       "      <td>1.90</td>\n",
       "    </tr>\n",
       "    <tr>\n",
       "      <th>4</th>\n",
       "      <td>2000-04-01</td>\n",
       "      <td>CAD</td>\n",
       "      <td>Canada</td>\n",
       "      <td>2.85</td>\n",
       "      <td>1</td>\n",
       "      <td>2.85</td>\n",
       "    </tr>\n",
       "  </tbody>\n",
       "</table>\n",
       "</div>"
      ],
      "text/plain": [
       "         date currency_code       name  local_price  dollar_ex  dollar_price\n",
       "0  2000-04-01           ARS  Argentina         2.50          1          2.50\n",
       "1  2000-04-01           AUD  Australia         2.59          1          2.59\n",
       "2  2000-04-01           BRL     Brazil         2.95          1          2.95\n",
       "3  2000-04-01           GBP    Britain         1.90          1          1.90\n",
       "4  2000-04-01           CAD     Canada         2.85          1          2.85"
      ]
     },
     "execution_count": 4,
     "metadata": {},
     "output_type": "execute_result"
    }
   ],
   "source": [
    "df.head() #Comando para ler as primeiras linhas do seu DataFrame"
   ]
  },
  {
   "cell_type": "markdown",
   "id": "af9f9d9c-3ec4-4b3d-b7cd-64d3ec9921f2",
   "metadata": {},
   "source": [
    "    Descrição Das Colunas:\n",
    "- Date: Data do registro;\n",
    "- currency_code: Código ISO 4217 internacional da moeda do país;\n",
    "- local_price: Preço do Big Mac na moeda local\n",
    "- dolla_ex: Tava de conversão do dólar americano para a moeda local;\n",
    "- dollar_price: Preço do Big Mac em dólares americados;"
   ]
  },
  {
   "cell_type": "code",
   "execution_count": 5,
   "id": "60152ee8-b538-40ce-b825-e521016fc2a5",
   "metadata": {},
   "outputs": [
    {
     "data": {
      "text/plain": [
       "date              object\n",
       "currency_code     object\n",
       "name              object\n",
       "local_price      float64\n",
       "dollar_ex          int64\n",
       "dollar_price     float64\n",
       "dtype: object"
      ]
     },
     "execution_count": 5,
     "metadata": {},
     "output_type": "execute_result"
    }
   ],
   "source": [
    "df.dtypes"
   ]
  },
  {
   "cell_type": "code",
   "execution_count": null,
   "id": "96feb19f-fc7b-46b7-bdc0-ca025934ec36",
   "metadata": {},
   "outputs": [],
   "source": []
  },
  {
   "cell_type": "raw",
   "id": "ab80a8ec-0c9c-44e9-ba52-42c719300a0e",
   "metadata": {},
   "source": [
    "Vamos filtrar os dados somente do mês de Julho de 2022:"
   ]
  },
  {
   "cell_type": "code",
   "execution_count": 6,
   "id": "f290400a-a107-4a38-a112-530f02ba700b",
   "metadata": {},
   "outputs": [],
   "source": [
    "df_filtered = df[df['date'] == '2022-07-01']"
   ]
  },
  {
   "cell_type": "code",
   "execution_count": 7,
   "id": "26be2213-b1aa-4f20-ad93-cadcbe05855f",
   "metadata": {},
   "outputs": [
    {
     "data": {
      "text/html": [
       "<div>\n",
       "<style scoped>\n",
       "    .dataframe tbody tr th:only-of-type {\n",
       "        vertical-align: middle;\n",
       "    }\n",
       "\n",
       "    .dataframe tbody tr th {\n",
       "        vertical-align: top;\n",
       "    }\n",
       "\n",
       "    .dataframe thead th {\n",
       "        text-align: right;\n",
       "    }\n",
       "</style>\n",
       "<table border=\"1\" class=\"dataframe\">\n",
       "  <thead>\n",
       "    <tr style=\"text-align: right;\">\n",
       "      <th></th>\n",
       "      <th>date</th>\n",
       "      <th>currency_code</th>\n",
       "      <th>name</th>\n",
       "      <th>local_price</th>\n",
       "      <th>dollar_ex</th>\n",
       "      <th>dollar_price</th>\n",
       "    </tr>\n",
       "  </thead>\n",
       "  <tbody>\n",
       "    <tr>\n",
       "      <th>1876</th>\n",
       "      <td>2022-07-01</td>\n",
       "      <td>ARS</td>\n",
       "      <td>Argentina</td>\n",
       "      <td>590.00</td>\n",
       "      <td>129</td>\n",
       "      <td>4.57</td>\n",
       "    </tr>\n",
       "    <tr>\n",
       "      <th>1877</th>\n",
       "      <td>2022-07-01</td>\n",
       "      <td>AUD</td>\n",
       "      <td>Australia</td>\n",
       "      <td>6.70</td>\n",
       "      <td>1</td>\n",
       "      <td>6.70</td>\n",
       "    </tr>\n",
       "    <tr>\n",
       "      <th>1878</th>\n",
       "      <td>2022-07-01</td>\n",
       "      <td>EUR</td>\n",
       "      <td>Austria</td>\n",
       "      <td>4.35</td>\n",
       "      <td>1</td>\n",
       "      <td>4.35</td>\n",
       "    </tr>\n",
       "    <tr>\n",
       "      <th>1879</th>\n",
       "      <td>2022-07-01</td>\n",
       "      <td>AZN</td>\n",
       "      <td>Azerbaijan</td>\n",
       "      <td>4.70</td>\n",
       "      <td>1</td>\n",
       "      <td>4.70</td>\n",
       "    </tr>\n",
       "    <tr>\n",
       "      <th>1880</th>\n",
       "      <td>2022-07-01</td>\n",
       "      <td>BHD</td>\n",
       "      <td>Bahrain</td>\n",
       "      <td>1.60</td>\n",
       "      <td>1</td>\n",
       "      <td>1.60</td>\n",
       "    </tr>\n",
       "  </tbody>\n",
       "</table>\n",
       "</div>"
      ],
      "text/plain": [
       "            date currency_code        name  local_price  dollar_ex  \\\n",
       "1876  2022-07-01           ARS   Argentina       590.00        129   \n",
       "1877  2022-07-01           AUD   Australia         6.70          1   \n",
       "1878  2022-07-01           EUR     Austria         4.35          1   \n",
       "1879  2022-07-01           AZN  Azerbaijan         4.70          1   \n",
       "1880  2022-07-01           BHD     Bahrain         1.60          1   \n",
       "\n",
       "      dollar_price  \n",
       "1876          4.57  \n",
       "1877          6.70  \n",
       "1878          4.35  \n",
       "1879          4.70  \n",
       "1880          1.60  "
      ]
     },
     "execution_count": 7,
     "metadata": {},
     "output_type": "execute_result"
    }
   ],
   "source": [
    "df_filtered.head()"
   ]
  },
  {
   "cell_type": "code",
   "execution_count": 9,
   "id": "08e5eb69-1872-46e2-974f-857c9e0fc12d",
   "metadata": {},
   "outputs": [
    {
     "data": {
      "text/plain": [
       "date             70\n",
       "currency_code    70\n",
       "name             70\n",
       "local_price      70\n",
       "dollar_ex        70\n",
       "dollar_price     70\n",
       "dtype: int64"
      ]
     },
     "execution_count": 9,
     "metadata": {},
     "output_type": "execute_result"
    }
   ],
   "source": [
    "df_filtered.count()"
   ]
  },
  {
   "cell_type": "code",
   "execution_count": null,
   "id": "5fba96a6-cfed-49fa-911b-5c2ab857aa70",
   "metadata": {},
   "outputs": [],
   "source": []
  },
  {
   "cell_type": "markdown",
   "id": "7083cb3a-ea24-4d0e-bfc8-a79ac679c690",
   "metadata": {},
   "source": [
    "Quantos países únicos nós temos?"
   ]
  },
  {
   "cell_type": "code",
   "execution_count": 8,
   "id": "fec2ef25-04af-4c91-8070-7c7814ea7bfa",
   "metadata": {},
   "outputs": [
    {
     "data": {
      "text/plain": [
       "name\n",
       "Argentina               1\n",
       "Australia               1\n",
       "Austria                 1\n",
       "Azerbaijan              1\n",
       "Bahrain                 1\n",
       "                       ..\n",
       "United Arab Emirates    1\n",
       "United States           1\n",
       "Uruguay                 1\n",
       "Venezuela               1\n",
       "Vietnam                 1\n",
       "Name: date, Length: 70, dtype: int64"
      ]
     },
     "execution_count": 8,
     "metadata": {},
     "output_type": "execute_result"
    }
   ],
   "source": [
    "df_filtered.groupby('name').count()['date']"
   ]
  },
  {
   "cell_type": "markdown",
   "id": "5a844892-09af-4ccb-a592-a721613184dd",
   "metadata": {},
   "source": [
    "Temos 1 linha por país! Dessa forma, vamos calcular as medidas de tendência central. Salvaremos também os dados de Julho/2022 pois os reutilizaremos mais para frente."
   ]
  },
  {
   "cell_type": "code",
   "execution_count": 10,
   "id": "c63d0d26-009a-4288-8347-9f066036e948",
   "metadata": {},
   "outputs": [],
   "source": [
    "df_filtered.to_csv('BigmacPriceJuly2022.csv', index = False)"
   ]
  },
  {
   "cell_type": "code",
   "execution_count": null,
   "id": "407e98c2-bfed-4af1-ab5d-ef5f3c440a51",
   "metadata": {},
   "outputs": [],
   "source": []
  },
  {
   "cell_type": "markdown",
   "id": "d7da2dbb-fd5f-49f0-86e9-4e6a60d0e686",
   "metadata": {},
   "source": [
    "MODA:\n",
    "    A moda é uma medida estátistica de tendência central, que interessa sempre que estivermos em busca dos valores mais comuns de um dados.\n",
    "    É o valor dos dados que ocorre com maior frequência, ou seja, o valor que mais se repete dentro de uma série de observações.\n"
   ]
  },
  {
   "cell_type": "code",
   "execution_count": 12,
   "id": "5e5988ce-0590-475b-b0c2-f63e94b81277",
   "metadata": {},
   "outputs": [],
   "source": [
    "df = pandas.read_csv('BigmacPriceJuly2022.csv')"
   ]
  },
  {
   "cell_type": "markdown",
   "id": "e33f66d2-95c0-463a-93b2-48b36f2b3374",
   "metadata": {},
   "source": [
    "Vamos calcular a moda do preço do BigMac em dólares americanos:"
   ]
  },
  {
   "cell_type": "code",
   "execution_count": 13,
   "id": "89cc2a18-00ab-4124-8ddf-9333d72b1a2e",
   "metadata": {},
   "outputs": [
    {
     "data": {
      "text/plain": [
       "0    4.00\n",
       "1    4.58\n",
       "Name: dollar_price, dtype: float64"
      ]
     },
     "execution_count": 13,
     "metadata": {},
     "output_type": "execute_result"
    }
   ],
   "source": [
    "df['dollar_price'].mode()"
   ]
  },
  {
   "cell_type": "markdown",
   "id": "9b353917-938d-4696-8400-6ee544f3fd12",
   "metadata": {},
   "source": [
    "Vamos ver quantas vezes esses valores ocorreram:"
   ]
  },
  {
   "cell_type": "code",
   "execution_count": 14,
   "id": "12cbf39d-c460-4193-96ef-5fc526766e27",
   "metadata": {},
   "outputs": [
    {
     "data": {
      "text/plain": [
       "dollar_price\n",
       "4.58    3\n",
       "4.00    3\n",
       "4.70    2\n",
       "3.00    2\n",
       "3.71    2\n",
       "       ..\n",
       "6.00    1\n",
       "5.15    1\n",
       "6.22    1\n",
       "2.00    1\n",
       "2.95    1\n",
       "Name: count, Length: 61, dtype: int64"
      ]
     },
     "execution_count": 14,
     "metadata": {},
     "output_type": "execute_result"
    }
   ],
   "source": [
    "df['dollar_price'].value_counts()"
   ]
  },
  {
   "cell_type": "code",
   "execution_count": null,
   "id": "b7f846d6-fd00-4dae-9c7c-4edd4a8159e5",
   "metadata": {},
   "outputs": [],
   "source": []
  },
  {
   "cell_type": "markdown",
   "id": "4e2adea5-b34d-4989-a42f-6d75a398cda1",
   "metadata": {},
   "source": [
    "_______________________________________________________________________________________________________________________\n"
   ]
  },
  {
   "cell_type": "code",
   "execution_count": null,
   "id": "e8821cb0-0c88-479c-becd-ce924cf5d095",
   "metadata": {},
   "outputs": [],
   "source": []
  },
  {
   "cell_type": "markdown",
   "id": "019cd4dd-2aec-4389-a170-749cf583eeb0",
   "metadata": {},
   "source": [
    "Média:\n",
    "    Bastante relevante por ser muito fácil de ser calculada.\n"
   ]
  },
  {
   "cell_type": "markdown",
   "id": "1408acf4-082b-452d-9bae-8d492d2a875f",
   "metadata": {},
   "source": [
    "Vamos calcular a média do preço do BigMac em dólares americanos:"
   ]
  },
  {
   "cell_type": "code",
   "execution_count": 16,
   "id": "c12bdccf-8441-48ec-9fca-df2ebd67cba8",
   "metadata": {},
   "outputs": [
    {
     "data": {
      "text/plain": [
       "4.003571428571429"
      ]
     },
     "execution_count": 16,
     "metadata": {},
     "output_type": "execute_result"
    }
   ],
   "source": [
    "df['dollar_price'].mean()"
   ]
  },
  {
   "cell_type": "markdown",
   "id": "4b33ed6f-4b83-485d-b2b8-9d5c9ec099b3",
   "metadata": {},
   "source": [
    "Apesar de ser muito popular e fácil de ser calculada, devemos tomar cuidado especiais com a média, pois a mesma é facilmente influenciada por valores extremos na nossa amostra."
   ]
  },
  {
   "cell_type": "code",
   "execution_count": 17,
   "id": "6eb8d31f-301c-45f3-b03b-b2d2de3680a6",
   "metadata": {},
   "outputs": [],
   "source": [
    "def media(lista):\n",
    "    return sum(lista)/len(lista)"
   ]
  },
  {
   "cell_type": "markdown",
   "id": "cb136e1c-d17f-4d8a-9e72-5c019d94c59b",
   "metadata": {},
   "source": [
    "Vamos calcular a média de algumas listas de alturas de pessoas e ver como a média se comporta em cada caso.\n",
    "A primeira lista tem alturas bem próximas umas das outras:\n"
   ]
  },
  {
   "cell_type": "code",
   "execution_count": 18,
   "id": "50f01666-ca17-496e-b346-478cc1a1a158",
   "metadata": {},
   "outputs": [],
   "source": [
    "lista_alturas_1 = [1.67, 1.72, 1.70, 1.69, 1.74, 1.71]"
   ]
  },
  {
   "cell_type": "code",
   "execution_count": 19,
   "id": "1bd8d287-45fa-4dee-b749-9919bac6f10b",
   "metadata": {},
   "outputs": [
    {
     "data": {
      "text/plain": [
       "1.705"
      ]
     },
     "execution_count": 19,
     "metadata": {},
     "output_type": "execute_result"
    }
   ],
   "source": [
    "media(lista_alturas_1)"
   ]
  },
  {
   "cell_type": "markdown",
   "id": "98a581f5-d26b-428e-8b24-10d4ab58b15d",
   "metadata": {},
   "source": [
    "A segunda lista tem alturas mais espaçadas umas das outras:"
   ]
  },
  {
   "cell_type": "code",
   "execution_count": 21,
   "id": "0788087c-1202-4515-a732-3e8c97ee3af5",
   "metadata": {},
   "outputs": [],
   "source": [
    "lista_alturas_2 = [1.60, 1.66, 1.72, 1.69, 1.78, 1.77]"
   ]
  },
  {
   "cell_type": "code",
   "execution_count": 22,
   "id": "8d0b30e6-46f7-47ba-b49c-fd68ccf6348c",
   "metadata": {},
   "outputs": [
    {
     "data": {
      "text/plain": [
       "1.7033333333333334"
      ]
     },
     "execution_count": 22,
     "metadata": {},
     "output_type": "execute_result"
    }
   ],
   "source": [
    "media(lista_alturas_2)"
   ]
  },
  {
   "cell_type": "markdown",
   "id": "869e05fe-8312-49c4-ba15-cb48c1587e62",
   "metadata": {},
   "source": [
    "A terceira lista tem uma altura bem menor do que as outras:"
   ]
  },
  {
   "cell_type": "code",
   "execution_count": 24,
   "id": "9888f070-1257-445a-b04d-9f15d6c66850",
   "metadata": {},
   "outputs": [],
   "source": [
    "lista_alturas_3 = [1.20, 1.72, 1.70, 1.69, 1.74, 1.71]"
   ]
  },
  {
   "cell_type": "code",
   "execution_count": 25,
   "id": "5b1f5ba6-cf2e-4e31-ad4d-26191c704e01",
   "metadata": {},
   "outputs": [
    {
     "data": {
      "text/plain": [
       "1.6266666666666667"
      ]
     },
     "execution_count": 25,
     "metadata": {},
     "output_type": "execute_result"
    }
   ],
   "source": [
    "media(lista_alturas_3)"
   ]
  },
  {
   "cell_type": "markdown",
   "id": "4a3bc055-622d-4295-90b6-7ac416a0fcbb",
   "metadata": {},
   "source": [
    "Finalmente, a quarta lista tem uma altura bem maior do que as outras:"
   ]
  },
  {
   "cell_type": "code",
   "execution_count": 26,
   "id": "b94ae990-2280-4b21-93ea-9d8b457bf362",
   "metadata": {},
   "outputs": [],
   "source": [
    "lista_alturas_4 = [1.67, 1.72, 1.70, 1.69, 1.74, 2.24]"
   ]
  },
  {
   "cell_type": "code",
   "execution_count": 27,
   "id": "94ff71b4-5ed8-4888-9d43-36d39a6d967c",
   "metadata": {},
   "outputs": [
    {
     "data": {
      "text/plain": [
       "1.7933333333333332"
      ]
     },
     "execution_count": 27,
     "metadata": {},
     "output_type": "execute_result"
    }
   ],
   "source": [
    "media(lista_alturas_4)"
   ]
  },
  {
   "cell_type": "code",
   "execution_count": null,
   "id": "c253b8d5-7a97-41a3-b514-dc3908c0d4fd",
   "metadata": {},
   "outputs": [],
   "source": []
  },
  {
   "cell_type": "markdown",
   "id": "3e21b62a-f977-4e8f-ae9f-7471bc7512c0",
   "metadata": {},
   "source": [
    "_______________________________________________________________________________________________________________________"
   ]
  },
  {
   "cell_type": "code",
   "execution_count": null,
   "id": "02a2c90c-a2cd-4a5f-bb64-54dd5f6e76cb",
   "metadata": {},
   "outputs": [],
   "source": []
  },
  {
   "cell_type": "markdown",
   "id": "e74f4fbc-3a75-49ea-bae2-de90a7ed3dcb",
   "metadata": {},
   "source": [
    "Mediana:\n",
    "    A mediana faz uma divisão exatamente no meio dos nossos dados. É o valor do meio do nosso conjunto de dados.\n",
    "    Para que a mediana seja calculada, primeiramente precisamos ordenar os dados para que então seja identificado o valor do meio. Por isso a mediana é relativamente custosa de ser calculada, principalmente em cenários de Big Data."
   ]
  },
  {
   "cell_type": "markdown",
   "id": "61bb4536-7b72-4c62-8fe4-cc07432893ef",
   "metadata": {},
   "source": [
    "Mediana do preço do BigMac em dólares no mundo:"
   ]
  },
  {
   "cell_type": "code",
   "execution_count": 31,
   "id": "ddb413ed-19ff-483f-a3fe-1fc05d01dda6",
   "metadata": {},
   "outputs": [
    {
     "data": {
      "text/plain": [
       "3.9050000000000002"
      ]
     },
     "execution_count": 31,
     "metadata": {},
     "output_type": "execute_result"
    }
   ],
   "source": [
    "df['dollar_price'].median()"
   ]
  },
  {
   "cell_type": "markdown",
   "id": "6c866353-2273-4a87-b20c-b1376676cd4d",
   "metadata": {},
   "source": [
    "Ao contrário da média, a mediana não é facilmente influenciada por valores extremos."
   ]
  },
  {
   "cell_type": "code",
   "execution_count": 32,
   "id": "4a79ae3a-e302-43fa-8f55-504c69ff1108",
   "metadata": {},
   "outputs": [],
   "source": [
    "import numpy as np\n"
   ]
  },
  {
   "cell_type": "markdown",
   "id": "0891c0f6-2e16-48a2-be6a-96f8f086e560",
   "metadata": {},
   "source": [
    "Lista equilibrada:"
   ]
  },
  {
   "cell_type": "code",
   "execution_count": 36,
   "id": "9e7dce27-a5bc-4514-b9fd-2fe072886799",
   "metadata": {},
   "outputs": [],
   "source": [
    "lista_alturas_1 = [1.67, 1.72, 1.70, 1.69, 1.74, 1.71]"
   ]
  },
  {
   "cell_type": "code",
   "execution_count": 37,
   "id": "686e7c80-70d6-4b48-8e5e-b864e4bab0d7",
   "metadata": {},
   "outputs": [
    {
     "data": {
      "text/plain": [
       "1.705"
      ]
     },
     "execution_count": 37,
     "metadata": {},
     "output_type": "execute_result"
    }
   ],
   "source": [
    "media(lista_alturas_1)"
   ]
  },
  {
   "cell_type": "code",
   "execution_count": 38,
   "id": "174cd75b-f0ba-4b54-b080-29da7b8c3978",
   "metadata": {},
   "outputs": [
    {
     "data": {
      "text/plain": [
       "1.705"
      ]
     },
     "execution_count": 38,
     "metadata": {},
     "output_type": "execute_result"
    }
   ],
   "source": [
    "np.median(lista_alturas_1)"
   ]
  },
  {
   "cell_type": "markdown",
   "id": "538d82b2-3220-44aa-b249-4d5defab4c57",
   "metadata": {},
   "source": [
    "Lista mais espaçada:"
   ]
  },
  {
   "cell_type": "code",
   "execution_count": 41,
   "id": "5637ede5-0196-41c1-a2e7-5a6a53da53a6",
   "metadata": {},
   "outputs": [],
   "source": [
    "lista_alturas_2 = [1.60, 1.66, 1.72, 1.69, 1.78, 1.77]"
   ]
  },
  {
   "cell_type": "code",
   "execution_count": 42,
   "id": "8bceca30-2719-4790-9dc0-93934e721166",
   "metadata": {},
   "outputs": [
    {
     "data": {
      "text/plain": [
       "1.7033333333333334"
      ]
     },
     "execution_count": 42,
     "metadata": {},
     "output_type": "execute_result"
    }
   ],
   "source": [
    "media(lista_alturas_2)"
   ]
  },
  {
   "cell_type": "code",
   "execution_count": 43,
   "id": "125eaec5-f719-4731-8871-616d955b221c",
   "metadata": {},
   "outputs": [
    {
     "data": {
      "text/plain": [
       "1.705"
      ]
     },
     "execution_count": 43,
     "metadata": {},
     "output_type": "execute_result"
    }
   ],
   "source": [
    "np.median(lista_alturas_2)"
   ]
  },
  {
   "cell_type": "markdown",
   "id": "df9f60c8-aa09-4c1e-87cb-3bc2d7aa2f61",
   "metadata": {},
   "source": [
    "Lista com uma altura bem menor do que as outras:"
   ]
  },
  {
   "cell_type": "code",
   "execution_count": 44,
   "id": "b102b4cd-496b-4cb6-863c-3f2459f02900",
   "metadata": {},
   "outputs": [],
   "source": [
    "lista_alturas_3 = [1.20, 1.72, 1.70, 1.69, 1.74, 1.71]"
   ]
  },
  {
   "cell_type": "code",
   "execution_count": 45,
   "id": "b257a230-5f98-497e-b6db-9a0dcc008378",
   "metadata": {},
   "outputs": [
    {
     "data": {
      "text/plain": [
       "1.6266666666666667"
      ]
     },
     "execution_count": 45,
     "metadata": {},
     "output_type": "execute_result"
    }
   ],
   "source": [
    "media(lista_alturas_3)"
   ]
  },
  {
   "cell_type": "code",
   "execution_count": 46,
   "id": "58452586-6cf6-47f8-a98f-04ccef879dfe",
   "metadata": {},
   "outputs": [
    {
     "data": {
      "text/plain": [
       "1.705"
      ]
     },
     "execution_count": 46,
     "metadata": {},
     "output_type": "execute_result"
    }
   ],
   "source": [
    "np.median(lista_alturas_3)"
   ]
  },
  {
   "cell_type": "markdown",
   "id": "30dc25d3-83a1-4b8b-9def-e06ad8ac2bb5",
   "metadata": {},
   "source": [
    "Lista com uma altura bem maior do que as outras:"
   ]
  },
  {
   "cell_type": "code",
   "execution_count": 47,
   "id": "987ed2e2-bda5-4ab5-86db-c55f0e367d33",
   "metadata": {},
   "outputs": [],
   "source": [
    "lista_alturas_4 = [1.67, 1.72, 1.70, 1.69, 1.74, 2.24]"
   ]
  },
  {
   "cell_type": "code",
   "execution_count": 48,
   "id": "bdac532a-10b7-4543-a9ce-86c27fb05c1e",
   "metadata": {},
   "outputs": [
    {
     "data": {
      "text/plain": [
       "1.7933333333333332"
      ]
     },
     "execution_count": 48,
     "metadata": {},
     "output_type": "execute_result"
    }
   ],
   "source": [
    "media(lista_alturas_4)"
   ]
  },
  {
   "cell_type": "code",
   "execution_count": 49,
   "id": "6dd9026a-624b-47c4-b9e9-345255457c56",
   "metadata": {},
   "outputs": [
    {
     "data": {
      "text/plain": [
       "1.71"
      ]
     },
     "execution_count": 49,
     "metadata": {},
     "output_type": "execute_result"
    }
   ],
   "source": [
    "np.median(lista_alturas_4)"
   ]
  },
  {
   "cell_type": "code",
   "execution_count": null,
   "id": "ca359fa6-0b76-4b71-8da8-7c5f23286905",
   "metadata": {},
   "outputs": [],
   "source": []
  }
 ],
 "metadata": {
  "kernelspec": {
   "display_name": "Python 3 (ipykernel)",
   "language": "python",
   "name": "python3"
  },
  "language_info": {
   "codemirror_mode": {
    "name": "ipython",
    "version": 3
   },
   "file_extension": ".py",
   "mimetype": "text/x-python",
   "name": "python",
   "nbconvert_exporter": "python",
   "pygments_lexer": "ipython3",
   "version": "3.12.0"
  }
 },
 "nbformat": 4,
 "nbformat_minor": 5
}
