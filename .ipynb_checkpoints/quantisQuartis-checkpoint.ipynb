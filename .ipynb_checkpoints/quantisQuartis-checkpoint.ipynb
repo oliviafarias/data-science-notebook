{
 "cells": [
  {
   "cell_type": "markdown",
   "id": "5745e6da-d3d5-4b42-8787-26d1d4268cde",
   "metadata": {},
   "source": [
    "Quantis e Quartis\n",
    "    Quantis e Quartis nos ajudam a entender o que ocorre em certa porcentagem dos nossos dados. Eles recortam nossos dados na quantidade que pedimos, e então temos uma noção melhor de como as observações estão se comportando.\n",
    "    "
   ]
  },
  {
   "cell_type": "markdown",
   "id": "df4ea9fe-6618-483b-af2d-7793252899ef",
   "metadata": {},
   "source": [
    "O percentil 10% (quantil 0.10), por exemplo, nos informa qual é o valor máximo dos dados se eu considerar somente os 10% primeiros termos dos meus dados, depois de ordená-los."
   ]
  },
  {
   "cell_type": "markdown",
   "id": "4121cc8a-3cb1-49c4-86dc-167b6dd16dd0",
   "metadata": {},
   "source": [
    "Os quartis são quantis específicos:\n",
    "- 1˚ Quartil: Quantil 0.25;\n",
    "- 2˚ Quartil = Mediana = Quantil 0.50;\n",
    "- 3˚ Quartil = Quantil 0.75;\n"
   ]
  },
  {
   "cell_type": "markdown",
   "id": "01f251f5-0987-4225-ac65-2e8c7ad6fbbd",
   "metadata": {},
   "source": [
    "Vamos continuar usando os dados do preço do BigMac em Julho de 2022:"
   ]
  },
  {
   "cell_type": "code",
   "execution_count": 1,
   "id": "e633d109-8769-4351-be6a-702fd9b95b78",
   "metadata": {},
   "outputs": [],
   "source": [
    "import pandas"
   ]
  },
  {
   "cell_type": "code",
   "execution_count": 2,
   "id": "27651715-9ae0-483b-aa55-fdfb467df020",
   "metadata": {},
   "outputs": [],
   "source": [
    "df = pandas.read_csv('BigMacPriceJuly2022.csv')"
   ]
  },
  {
   "cell_type": "code",
   "execution_count": 3,
   "id": "18d333bf-a65d-4ba8-afce-65f1ed9ecffa",
   "metadata": {},
   "outputs": [
    {
     "data": {
      "text/html": [
       "<div>\n",
       "<style scoped>\n",
       "    .dataframe tbody tr th:only-of-type {\n",
       "        vertical-align: middle;\n",
       "    }\n",
       "\n",
       "    .dataframe tbody tr th {\n",
       "        vertical-align: top;\n",
       "    }\n",
       "\n",
       "    .dataframe thead th {\n",
       "        text-align: right;\n",
       "    }\n",
       "</style>\n",
       "<table border=\"1\" class=\"dataframe\">\n",
       "  <thead>\n",
       "    <tr style=\"text-align: right;\">\n",
       "      <th></th>\n",
       "      <th>date</th>\n",
       "      <th>currency_code</th>\n",
       "      <th>name</th>\n",
       "      <th>local_price</th>\n",
       "      <th>dollar_ex</th>\n",
       "      <th>dollar_price</th>\n",
       "    </tr>\n",
       "  </thead>\n",
       "  <tbody>\n",
       "    <tr>\n",
       "      <th>0</th>\n",
       "      <td>2022-07-01</td>\n",
       "      <td>ARS</td>\n",
       "      <td>Argentina</td>\n",
       "      <td>590.00</td>\n",
       "      <td>129</td>\n",
       "      <td>4.57</td>\n",
       "    </tr>\n",
       "    <tr>\n",
       "      <th>1</th>\n",
       "      <td>2022-07-01</td>\n",
       "      <td>AUD</td>\n",
       "      <td>Australia</td>\n",
       "      <td>6.70</td>\n",
       "      <td>1</td>\n",
       "      <td>6.70</td>\n",
       "    </tr>\n",
       "    <tr>\n",
       "      <th>2</th>\n",
       "      <td>2022-07-01</td>\n",
       "      <td>EUR</td>\n",
       "      <td>Austria</td>\n",
       "      <td>4.35</td>\n",
       "      <td>1</td>\n",
       "      <td>4.35</td>\n",
       "    </tr>\n",
       "    <tr>\n",
       "      <th>3</th>\n",
       "      <td>2022-07-01</td>\n",
       "      <td>AZN</td>\n",
       "      <td>Azerbaijan</td>\n",
       "      <td>4.70</td>\n",
       "      <td>1</td>\n",
       "      <td>4.70</td>\n",
       "    </tr>\n",
       "    <tr>\n",
       "      <th>4</th>\n",
       "      <td>2022-07-01</td>\n",
       "      <td>BHD</td>\n",
       "      <td>Bahrain</td>\n",
       "      <td>1.60</td>\n",
       "      <td>1</td>\n",
       "      <td>1.60</td>\n",
       "    </tr>\n",
       "  </tbody>\n",
       "</table>\n",
       "</div>"
      ],
      "text/plain": [
       "         date currency_code        name  local_price  dollar_ex  dollar_price\n",
       "0  2022-07-01           ARS   Argentina       590.00        129          4.57\n",
       "1  2022-07-01           AUD   Australia         6.70          1          6.70\n",
       "2  2022-07-01           EUR     Austria         4.35          1          4.35\n",
       "3  2022-07-01           AZN  Azerbaijan         4.70          1          4.70\n",
       "4  2022-07-01           BHD     Bahrain         1.60          1          1.60"
      ]
     },
     "execution_count": 3,
     "metadata": {},
     "output_type": "execute_result"
    }
   ],
   "source": [
    "df.head()"
   ]
  },
  {
   "cell_type": "markdown",
   "id": "d695686a-23d5-40bc-815c-bd8b0b5f6d9b",
   "metadata": {},
   "source": [
    "    Descrição Das Colunas:\n",
    "- Date: Data do registro;\n",
    "- currency_code: Código ISO 4217 internacional da moeda do país;\n",
    "- local_price: Preço do Big Mac na moeda local\n",
    "- dolla_ex: Tava de conversão do dólar americano para a moeda local;\n",
    "- dollar_price: Preço do Big Mac em dólares americados;"
   ]
  },
  {
   "cell_type": "markdown",
   "id": "da78d59d-60f8-4fae-a1d8-bec1a1b7f94f",
   "metadata": {},
   "source": [
    "Vamos calcular alguns quantis para o preço do BigMac em dólares americanos:"
   ]
  },
  {
   "cell_type": "code",
   "execution_count": 4,
   "id": "a622e614-1f25-4fb8-aa54-5401ed2ecc8d",
   "metadata": {},
   "outputs": [
    {
     "data": {
      "text/plain": [
       "2.413"
      ]
     },
     "execution_count": 4,
     "metadata": {},
     "output_type": "execute_result"
    }
   ],
   "source": [
    "df['dollar_price'].quantile(0.1)"
   ]
  },
  {
   "cell_type": "markdown",
   "id": "0f2f611f-c331-4abd-a432-71224564d432",
   "metadata": {},
   "source": [
    "Podemos afirmar que 10% dos BigMacs do mundo custam até 2.413 dólares."
   ]
  },
  {
   "cell_type": "code",
   "execution_count": null,
   "id": "28a2062a-03c9-4e90-a21f-d067adca3458",
   "metadata": {},
   "outputs": [],
   "source": []
  },
  {
   "cell_type": "markdown",
   "id": "c8891939-a067-4c11-bad2-3450438c71dd",
   "metadata": {},
   "source": [
    "Aqui calculamos o quantil 0.25, ou o percentil 25%, ou o primeiro quartil:"
   ]
  },
  {
   "cell_type": "code",
   "execution_count": 5,
   "id": "f803e9aa-c2ea-4e4b-9483-7959270d43f0",
   "metadata": {},
   "outputs": [
    {
     "data": {
      "text/plain": [
       "3.0"
      ]
     },
     "execution_count": 5,
     "metadata": {},
     "output_type": "execute_result"
    }
   ],
   "source": [
    "df['dollar_price'].quantile(0.25)"
   ]
  },
  {
   "cell_type": "markdown",
   "id": "52ccb809-f368-4e14-b3df-c2f35168bff5",
   "metadata": {},
   "source": [
    "Podemos afirmar que 1/4 dos BigMacs do mundo custam até 3 dólares."
   ]
  },
  {
   "cell_type": "code",
   "execution_count": null,
   "id": "b77586b6-6b75-4c6c-a9e5-7120163df616",
   "metadata": {},
   "outputs": [],
   "source": []
  },
  {
   "cell_type": "markdown",
   "id": "b3c15971-0d63-4f41-a698-0ea2715c760e",
   "metadata": {},
   "source": [
    "Aqui calculamos o quantil 0.5, ou o percentil 50%, ou a mediana:"
   ]
  },
  {
   "cell_type": "code",
   "execution_count": 7,
   "id": "dcc4dbdd-cb80-417b-92a9-f4b3e0c3816d",
   "metadata": {},
   "outputs": [
    {
     "data": {
      "text/plain": [
       "3.9050000000000002"
      ]
     },
     "execution_count": 7,
     "metadata": {},
     "output_type": "execute_result"
    }
   ],
   "source": [
    "df['dollar_price'].quantile(0.50)"
   ]
  },
  {
   "cell_type": "code",
   "execution_count": 8,
   "id": "a8fa450a-ea98-4a54-b010-1e9bb2d67a2d",
   "metadata": {},
   "outputs": [
    {
     "data": {
      "text/plain": [
       "3.9050000000000002"
      ]
     },
     "execution_count": 8,
     "metadata": {},
     "output_type": "execute_result"
    }
   ],
   "source": [
    "df['dollar_price'].median()"
   ]
  },
  {
   "cell_type": "markdown",
   "id": "5cb576a4-0f02-4b4c-8c33-79d8f69d5576",
   "metadata": {},
   "source": [
    "Podemos afirmar que metade dos BigMacs do mundo custam até 3.90 dólares."
   ]
  },
  {
   "cell_type": "code",
   "execution_count": null,
   "id": "99abbadd-38b6-451b-bc1c-2a800cafe5a2",
   "metadata": {},
   "outputs": [],
   "source": []
  },
  {
   "cell_type": "markdown",
   "id": "a9663577-2854-4a4b-9511-834b012ffc53",
   "metadata": {},
   "source": [
    "Agora com os quantis, conseguimos montar um retrato mais completo de como nossos dados se comportam."
   ]
  },
  {
   "cell_type": "code",
   "execution_count": 15,
   "id": "5b083409-263f-41a3-a7e2-5b38a632415d",
   "metadata": {},
   "outputs": [],
   "source": [
    "percentil_10 = df['dollar_price'].quantile(0.1)\n",
    "percentil_25 = df['dollar_price'].quantile(0.25)\n",
    "percentil_50 = df['dollar_price'].quantile(0.50)\n",
    "percentil_75 = df['dollar_price'].quantile(0.75)\n",
    "percentil_90 = df['dollar_price'].quantile(0.9)\n",
    "percentil_95 = df['dollar_price'].quantile(0.95)\n",
    "percentil_99 = df['dollar_price'].quantile(0.99)\n",
    "mediana = df['dollar_price'].mean()\n",
    "media = df['dollar_price'].mean()\n",
    "moda = df['dollar_price'].mode()[0]\n"
   ]
  },
  {
   "cell_type": "code",
   "execution_count": 16,
   "id": "47bca3fa-c2aa-4f83-a22b-3bb3b1724789",
   "metadata": {},
   "outputs": [
    {
     "name": "stdout",
     "output_type": "stream",
     "text": [
      "Quantil 0.10: 2.413\n",
      "\n",
      "Primeiro Quartil: 3.0\n",
      "\n",
      "Mediana: 4.003571428571429\n",
      "\n",
      "Media: 4.003571428571429\n",
      "\n",
      "Moda: 4.0\n",
      "\n",
      "Quantil 0.50: 3.9050000000000002\n",
      "\n",
      "Terceiro Quartil: 4.6875\n",
      "\n",
      "Quantil 0.90: 5.91\n",
      "\n",
      "Quantil 0.95: 6.609999999999999\n",
      "\n",
      "Quantil 0.99: 6.9551\n",
      "\n"
     ]
    }
   ],
   "source": [
    "print(\"Quantil 0.10: {}\\n\".format(percentil_10))\n",
    "print(\"Primeiro Quartil: {}\\n\".format(percentil_25))\n",
    "print(\"Mediana: {}\\n\".format(mediana))\n",
    "print(\"Media: {}\\n\".format(media))\n",
    "print(\"Moda: {}\\n\".format(moda))\n",
    "print(\"Quantil 0.50: {}\\n\".format(percentil_50))\n",
    "print(\"Terceiro Quartil: {}\\n\".format(percentil_75))\n",
    "print(\"Quantil 0.90: {}\\n\".format(percentil_90))\n",
    "print(\"Quantil 0.95: {}\\n\".format(percentil_95))\n",
    "print(\"Quantil 0.99: {}\\n\".format(percentil_99))\n",
    "\n",
    "\n",
    "\n",
    "\n",
    "    "
   ]
  },
  {
   "cell_type": "markdown",
   "id": "9ad06733-0bd0-4cff-a6cc-77aee8f6773a",
   "metadata": {},
   "source": [
    "Os quantis são de muita importância quando queremos entender melhor a própria dispersão dos dados que estamos analisando. Alguns exemplos dentre as várias aplicações para eles:\n",
    "* Identificar comportamentos muito diferentes do restante dos dados (Outliers);\n",
    "* Entender em qual corte a maioria dos dados se encontram, ou até mesmo uma parte específica deles;\n",
    "* Ajudar na tomada de decisão em situações de Trade-Off. Ex.: Acurácia de Localização;\n",
    "* Boxplot;"
   ]
  }
 ],
 "metadata": {
  "kernelspec": {
   "display_name": "Python 3 (ipykernel)",
   "language": "python",
   "name": "python3"
  },
  "language_info": {
   "codemirror_mode": {
    "name": "ipython",
    "version": 3
   },
   "file_extension": ".py",
   "mimetype": "text/x-python",
   "name": "python",
   "nbconvert_exporter": "python",
   "pygments_lexer": "ipython3",
   "version": "3.12.0"
  }
 },
 "nbformat": 4,
 "nbformat_minor": 5
}
