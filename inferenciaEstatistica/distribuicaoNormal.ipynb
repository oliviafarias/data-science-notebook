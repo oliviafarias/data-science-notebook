{
 "cells": [
  {
   "cell_type": "markdown",
   "id": "f39950a9-0b75-4d60-809c-586ee8982b2f",
   "metadata": {},
   "source": [
    "Distribuição Normal\n",
    "    A distribuição normal é uma distribuição para dados contínuos, muito utilizada em diversas aplicações da Estatística. Seu nome oficial é Gaussiana mas, por representar tantos dados que encontramos no dia a dia, acabamos por chamá-la de normal.\n",
    "    Essa é uma distribuição que tem um comportamente simétrico em torno da média, onde os valores próximos da média são muito frequentes e os distantes da média, pouco freque"
   ]
  },
  {
   "cell_type": "code",
   "execution_count": null,
   "id": "88361368-902d-4a19-a67b-867659041c32",
   "metadata": {},
   "outputs": [],
   "source": []
  }
 ],
 "metadata": {
  "kernelspec": {
   "display_name": "Python 3 (ipykernel)",
   "language": "python",
   "name": "python3"
  },
  "language_info": {
   "codemirror_mode": {
    "name": "ipython",
    "version": 3
   },
   "file_extension": ".py",
   "mimetype": "text/x-python",
   "name": "python",
   "nbconvert_exporter": "python",
   "pygments_lexer": "ipython3",
   "version": "3.11.5"
  }
 },
 "nbformat": 4,
 "nbformat_minor": 5
}
